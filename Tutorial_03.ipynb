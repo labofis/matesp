{
 "cells": [
  {
   "cell_type": "markdown",
   "metadata": {},
   "source": [
    "# 3. Sintaxe, Variáveis e Referências a Objetos"
   ]
  },
  {
   "cell_type": "markdown",
   "metadata": {},
   "source": [
    "## 3.1. Generalidades"
   ]
  },
  {
   "cell_type": "markdown",
   "metadata": {},
   "source": [
    "No contexto de Generalidades, não temos a intensão, nesse momento, de detalhar as particularidades de cada linha de comando, mas apenas ressaltar alguns aspectos relevantes para o desenvolvimento de rotinas em Python."
   ]
  },
  {
   "cell_type": "markdown",
   "metadata": {},
   "source": [
    "### 3.1.1. Sensituvo"
   ]
  },
  {
   "cell_type": "markdown",
   "metadata": {},
   "source": [
    "O Python diferencia letras ***maiúsculas*** e ***minúsculas***.\n",
    "\n",
    "Por exemplo, o comando `print()` tem sintaxe de letras minúsculas, e um erro ocorrerá caso a função seja escrita `Print()`."
   ]
  },
  {
   "cell_type": "markdown",
   "metadata": {},
   "source": [
    "`Execute:`"
   ]
  },
  {
   "cell_type": "code",
   "execution_count": null,
   "metadata": {},
   "outputs": [],
   "source": [
    "print ('teste de sintaxe')"
   ]
  },
  {
   "cell_type": "code",
   "execution_count": null,
   "metadata": {},
   "outputs": [],
   "source": [
    "Print ('teste de sintaxe') # nesse caso ocorrerá um erro"
   ]
  },
  {
   "cell_type": "markdown",
   "metadata": {},
   "source": [
    "### 3.1.2. Identação"
   ]
  },
  {
   "cell_type": "markdown",
   "metadata": {},
   "source": [
    "Python é uma linguagem com indentação, ou seja, há ***4 espaço*** em branco a cada novo bloco (ou célula) de programação. O símbolo ***dois pontos*** **‘**<span style=\"color:red\">:</span>**’** caracteriza o **início** de um bloco. A indentação permite melhor visualização e leitura do código de programação (https://peps.python.org/pep-0008/#indentation).\n",
    "\n",
    "Caso um bloco de programação esteja contido dentro de outro bloco, então, dobra-se a quantidade de espaços em branco. Observe os exemplos abaixo (por enquanto o importante é entender o que é **indentação**, não se preocupe com os comandos utilizados)."
   ]
  },
  {
   "cell_type": "markdown",
   "metadata": {},
   "source": [
    "`Execute:`"
   ]
  },
  {
   "cell_type": "code",
   "execution_count": null,
   "metadata": {},
   "outputs": [],
   "source": [
    "if 5 > 2:\n",
    "    # início do bloco de programação - indentação (4 espaços em branco)\n",
    "    print(\"cinco é maior que dois!\") "
   ]
  },
  {
   "cell_type": "code",
   "execution_count": null,
   "metadata": {},
   "outputs": [],
   "source": [
    "if 5 > 2:\n",
    "print(\"cinco é maior que dois!\") # nesse caso ocorrerá um erro"
   ]
  },
  {
   "cell_type": "code",
   "execution_count": null,
   "metadata": {},
   "outputs": [],
   "source": [
    "var1 = range (0,5)\n",
    "for i in var1:\n",
    "    x = i**2 # início do 1o bloco (4 espaços em branco)\n",
    "    print (x)\n",
    "    for j in range(i,5):\n",
    "        y = j**2 # início do 2o bloco (8 espaços em branco)\n",
    "        print (y)"
   ]
  },
  {
   "cell_type": "markdown",
   "metadata": {},
   "source": [
    "### 3.1.3. Continuação de Linha"
   ]
  },
  {
   "cell_type": "markdown",
   "metadata": {},
   "source": [
    "Há um limite do tamanho da linha em Python.\n",
    "\n",
    "De qualquer forma, é melhor ‘quebrar’ a linha de programação para melhor leitura do programa. A barra invertida ‘\\’ pode ser utilizada para informar ao Python que a linha continua na linha imediatamente abaixo."
   ]
  },
  {
   "cell_type": "markdown",
   "metadata": {},
   "source": [
    "`Execute:`"
   ]
  },
  {
   "cell_type": "code",
   "execution_count": null,
   "metadata": {},
   "outputs": [],
   "source": [
    "# nesse caso a variável y conterá uma linha contínua\n",
    "y = 'o ideal e que um programa não contenha linhas muito extensas para que a\n",
    "visualização do código em desenvolvimento seja rápida e clara.'\n",
    "print (y)"
   ]
  },
  {
   "cell_type": "code",
   "execution_count": null,
   "metadata": {},
   "outputs": [],
   "source": [
    "y = 'o ideal e que um programa não contenha \\\n",
    "linhas muito extensas \\\n",
    "para que a visualização do código \\\n",
    "em desenvolvimento seja rápida e clara.'\n",
    "print (y)"
   ]
  },
  {
   "cell_type": "markdown",
   "metadata": {},
   "source": [
    "Atenção, se houver **espaço em branco** após a barra invertida ‘\\’, então ocorrerá um erro na linha de comando. **De modo que o salto de linha utilizando a barra invertida é recomendado apenas em situações inevitáveis.**\n",
    "\n",
    "Uma melhor alternativa para escrever textos extensos é utilizar a aspas tripla *'''conteúdo do texto'''* . Nesse caso, não é necessário colocar a barra invertida para continuar na próxima linha."
   ]
  },
  {
   "cell_type": "code",
   "execution_count": null,
   "metadata": {},
   "outputs": [],
   "source": [
    "y = '''o ideal e que um programa não\n",
    "contenha linhas muito extensas para\n",
    "que a visualização do código em desenvolvimento\n",
    "seja rápida e clara.'''\n",
    "print (y)"
   ]
  },
  {
   "cell_type": "markdown",
   "metadata": {},
   "source": [
    "Vírgulas ‘<span style=\"color:red\">,**</span>**’ separando itens contidos entre **parêntesis** <span style=\"color:red\">( )</span>, **colchetes** <span style=\"color:red\">[ ]</span>, ou **chaves** <span style=\"color:red\">{ }</span> também permite a separação de linhas de programação. Observe o código a seguir."
   ]
  },
  {
   "cell_type": "markdown",
   "metadata": {},
   "source": [
    "`Execute:`"
   ]
  },
  {
   "cell_type": "code",
   "execution_count": null,
   "metadata": {},
   "outputs": [],
   "source": [
    "print ('luz', 'vento', 'brisa')\n",
    "print ('luz', # podemos escrever com quebra de linha entre as vírgulas\n",
    "'vento',\n",
    "'brisa')"
   ]
  },
  {
   "cell_type": "markdown",
   "metadata": {},
   "source": [
    "### 3.1.4. Comentários"
   ]
  },
  {
   "cell_type": "markdown",
   "metadata": {},
   "source": [
    "O símbolo ‘<span style=\"color:red\">#</span>’ é utilizado para fazer um comentário dentro do programa.\n",
    "\n",
    "Quando a linha de programação inicia com esse símbolo, ela é ignorada pelo interpretador Python.\n",
    "\n",
    "O comentário é extremamente útil e serve para informar e documentar questões menos óbvias do código de programação."
   ]
  },
  {
   "cell_type": "markdown",
   "metadata": {},
   "source": [
    "`Execute:`"
   ]
  },
  {
   "cell_type": "code",
   "execution_count": null,
   "metadata": {},
   "outputs": [],
   "source": [
    "# Esse programa foi desenvolvido para exemplificar o\n",
    "# uso do símbolo ‘#’ de comentário - data:27/fev/2021\n",
    "# Autor: João Pereira\n",
    "print ('teste 1') # nesse caso o python imprime 'teste 1'\n",
    "# print ('teste 2') --> observe que nesse caso nada acontece"
   ]
  },
  {
   "cell_type": "markdown",
   "metadata": {},
   "source": [
    "### 3.1.5. Boas Práticas de Programação"
   ]
  },
  {
   "cell_type": "markdown",
   "metadata": {},
   "source": [
    "Um programa de computador escrito adequadamente e bem documentado (com comentários) facilita a leitura e correção de possíveis erros.\n",
    "\n",
    "Uma referência para boas práticas de programação, escrita pelo idealizador da linguagem Python (***Guido van Rossum***), pode ser acessada em:\n",
    "\n",
    "***Style Guide for Python Code***: https://www.python.org/dev/peps/pep-0008/?__s=4qaru9s1zpzyvfvucpkh"
   ]
  },
  {
   "cell_type": "markdown",
   "metadata": {},
   "source": [
    "## 3.2. Variáveis, Referências e Identidade de Objetos"
   ]
  },
  {
   "cell_type": "markdown",
   "metadata": {},
   "source": [
    "### 3.2.1. Variáveis"
   ]
  },
  {
   "cell_type": "markdown",
   "metadata": {},
   "source": [
    "De maneira simples, podemos pensar em **variáveis** como palavras que armazenam um conteúdo qualquer. Para criar uma variável, basta atribuir um conteúdo a ela. A atribuição é feita utilizando o símbolo da igualdade (**=**).\n",
    "\n",
    "Podemos atribuir a uma variável de nome ‘**var**’ o valor **55**, a uma outra variável de nome ‘**outra_variavel**’ o valor **1.37**, e a uma terceira variável de nome ‘**fruta**’ o conteúdo ‘**laranja**’, como no exemplo a seguir."
   ]
  },
  {
   "cell_type": "markdown",
   "metadata": {},
   "source": [
    "`Execute:`"
   ]
  },
  {
   "cell_type": "code",
   "execution_count": null,
   "metadata": {},
   "outputs": [],
   "source": [
    "var = 55\n",
    "outra_variavel = 1.37\n",
    "fruta = 'laranja'\n",
    "print (var, outra_variavel, fruta) # 55 1.37 laranja"
   ]
  },
  {
   "cell_type": "markdown",
   "metadata": {},
   "source": [
    "Há formas alternativas de atribuições de variáveis, como os exemplos a seguir."
   ]
  },
  {
   "cell_type": "markdown",
   "metadata": {},
   "source": [
    "`Execute:`"
   ]
  },
  {
   "cell_type": "code",
   "execution_count": null,
   "metadata": {},
   "outputs": [],
   "source": [
    "# atribuir variáveis na mesma linha, utilizando ponto e vírgula ;\n",
    "a=6.7; b='laranja'; c=8\n",
    "print (a, b, c)"
   ]
  },
  {
   "cell_type": "code",
   "execution_count": null,
   "metadata": {},
   "outputs": [],
   "source": [
    "a, b, c = 6.7, 'laranja', 8 # atribuir variáveis, utilizando vírgula ,\n",
    "print (a, b, c)"
   ]
  },
  {
   "cell_type": "code",
   "execution_count": null,
   "metadata": {},
   "outputs": [],
   "source": [
    "var1 = var2 = var3 = 300 # atribuir variáveis com mesmo conteúdo\n",
    "print (var1, var2, var3)"
   ]
  },
  {
   "cell_type": "markdown",
   "metadata": {},
   "source": [
    "É importante dar a uma variável um nome que seja descritivo o suficiente para deixar claro o motivo pelo qual ela está sendo utilizada. Por exemplo, suponha que você esteja contando o **número de pessoas que se graduaram\n",
    "na faculdade**, algumas sugestões de nome de variável poderiam ser:\n",
    "\n",
    "<br> *NumGraduadosFaculdade = 2500*\n",
    "<br> *Numero_de_graduados_faculdade = 2500*\n",
    "<br> *NGradFac = 2500*\n",
    "\n",
    "Qualquer letra ou número pode ser utilizado para nomear **variáveis**, funções, módulos e objetos. Entretanto, há algumas regras: o nome da variável **não** pode iniciar com **números** e alguns **símbolos especiais** não são permitidos, como por exemplo: <span style=\"color:red\">\\\\</span>, <span style=\"color:red\">*</span>, <span style=\"color:red\">:</span>, <span style=\"color:red\">%</span>, <span style=\"color:red\">#</span> entre outros.\n",
    "\n",
    "Há **32 palavras** reservadas em Python que **nunca** podem ser utilizadas como nome de variáveis: *and, as, assert, break, class, continue, def, del, elif, else, except, exec, finally, for, from, global, if, import, in, is, lambda, nonlocal, not, or, pass, print, raise, return, try, while, yield*."
   ]
  },
  {
   "cell_type": "markdown",
   "metadata": {},
   "source": [
    "### 3.2.2. Referências de Objeto"
   ]
  },
  {
   "cell_type": "markdown",
   "metadata": {},
   "source": [
    "Python é uma linguagem **orientada a objetos**. Virtualmente, todos os itens de dados em um programa Python são objetos de um **tipo** ou **classe específica**.\n",
    "\n",
    "Considere o código a seguir. Note que é possível verificar o tipo de um objeto utilizando-se a função <span style=\"color:red\">type()</span>."
   ]
  },
  {
   "cell_type": "markdown",
   "metadata": {},
   "source": [
    "`Execute:`"
   ]
  },
  {
   "cell_type": "code",
   "execution_count": null,
   "metadata": {},
   "outputs": [],
   "source": [
    "print (500) # 500\n",
    "print (type (500)) # <class 'int'>"
   ]
  },
  {
   "cell_type": "markdown",
   "metadata": {},
   "source": [
    "Quando apresentado com a declaração print (500) , o interpretador do Python faz o seguinte:\n",
    "\n",
    " - cria um objeto inteiro,\n",
    " - atribui o valor 500,\n",
    " - exibe no console.\n",
    "\n",
    "A questão é, o que realmente acontece quando se faz uma atribuição de variável a um objeto?\n",
    "\n",
    "Uma **variável** é um nome simbólico que é uma referência ou **ponteiro** para um **objeto**. Depois que um objeto é atribuído a uma variável, pode-se manipular o objeto pelo nome da variável."
   ]
  },
  {
   "cell_type": "markdown",
   "metadata": {},
   "source": [
    "`Execute:`"
   ]
  },
  {
   "cell_type": "code",
   "execution_count": null,
   "metadata": {},
   "outputs": [],
   "source": [
    "n = 500\n",
    "print (n) # 500\n",
    "print (type (n)) # <class 'int'>"
   ]
  },
  {
   "cell_type": "markdown",
   "metadata": {},
   "source": [
    "Esta atribuição cria um objeto inteiro com o valor **500** e atribui a variável <span style=\"color:red\">n</span> para apontar para esse objeto.\n",
    "\n",
    "\n",
    "![tabela_build-in](https://raw.githubusercontent.com/labofis/matesp/main/figures/t02_f01.png)\n",
    "\n",
    "\n",
    "Agora considere a seguinte linha de comando:"
   ]
  },
  {
   "cell_type": "markdown",
   "metadata": {},
   "source": [
    "`Execute:`"
   ]
  },
  {
   "cell_type": "markdown",
   "metadata": {},
   "source": [
    "`Execute:`"
   ]
  },
  {
   "cell_type": "code",
   "execution_count": null,
   "metadata": {},
   "outputs": [],
   "source": [
    "m = n"
   ]
  },
  {
   "cell_type": "markdown",
   "metadata": {},
   "source": [
    "No caso da linha de comando acima, o Python **não** cria outro objeto, ele simplesmente cria uma **nova variável** ou **referência**, <span style=\"color:red\">*m*</span>, que aponta para o **mesmo objeto** para o qual a variável <span style=\"color:red\">*n*</span> aponta.\n",
    "\n",
    "\n",
    "![tabela_build-in](https://raw.githubusercontent.com/labofis/matesp/main/figures/t02_f02.png)\n",
    "\n",
    "\n",
    "Em seguida, suponha que façamos isso:"
   ]
  },
  {
   "cell_type": "markdown",
   "metadata": {},
   "source": [
    "`Execute:`"
   ]
  },
  {
   "cell_type": "code",
   "execution_count": null,
   "metadata": {},
   "outputs": [],
   "source": [
    "m = 400"
   ]
  },
  {
   "cell_type": "markdown",
   "metadata": {},
   "source": [
    "Agora o Python cria um **novo objeto** inteiro com o valor de **400** e a variável <span style=\"color:red\">*m*</span> é agora uma referência para esse novo objeto.\n",
    "\n",
    "\n",
    "![tabela_build-in](https://raw.githubusercontent.com/labofis/matesp/main/figures/t02_f03.png)\n",
    "\n",
    "\n",
    "A linha de comando a seguir atribui outro objeto para a variável <span style=\"color:red\">*n*</span>. Nesse caso, o Python cria um **objeto** do tipo ***string*** com conteúdo '<span style=\"color:green\">*pera*</span>' e a variável <span style=\"color:red\">*n*</span> aponta para esse novo objeto."
   ]
  },
  {
   "cell_type": "markdown",
   "metadata": {},
   "source": [
    "`Execute:`"
   ]
  },
  {
   "cell_type": "code",
   "execution_count": null,
   "metadata": {},
   "outputs": [],
   "source": [
    "n = 'pera'"
   ]
  },
  {
   "cell_type": "markdown",
   "metadata": {},
   "source": [
    "![tabela_build-in](https://raw.githubusercontent.com/labofis/matesp/main/figures/t02_f04.png)\n",
    "\n",
    "Não há mais nenhuma referência ao objeto inteiro **500**. O Python percebe que o objeto está inacessível e recupera a memória alocada para que possa ser usada posteriormente.\n",
    "\n",
    "A vida de um objeto começa quando ele é criado, momento em que pelo menos uma referência a ele é atribuída. Durante a vida útil de um objeto, referências adicionais a ele podem ser atribuídas, como você viu acima, e referências a ele também podem ser excluídas. Um objeto permanece ‘vivo’ enquanto houver pelo menos uma referência apontada para esse objeto."
   ]
  },
  {
   "cell_type": "markdown",
   "metadata": {},
   "source": [
    "### 3.2.3. Identidade do Objeto"
   ]
  },
  {
   "cell_type": "markdown",
   "metadata": {},
   "source": [
    "Em Python, cada **objeto** criado recebe um número de identificação que o identifica de forma exclusiva. Dois objetos **não** terão o mesmo identificador durante qualquer período em que suas vidas úteis se sobreponham.\n",
    "\n",
    "A função <span style=\"color:red\">*id()*</span> do Python retorna o **identificador** de um objeto. Com essa função, é possível verificar se duas variáveis realmente apontam para o mesmo objeto."
   ]
  },
  {
   "cell_type": "code",
   "execution_count": null,
   "metadata": {},
   "outputs": [],
   "source": [
    "n = 300\n",
    "m = n\n",
    "print (id(n))\n",
    "print (id(m)) # observe que nesse caso id(n) = id(m)\n",
    "m = 400\n",
    "print (id(m)) # agora id(n) ≠ id(m)"
   ]
  },
  {
   "cell_type": "code",
   "execution_count": null,
   "metadata": {},
   "outputs": [],
   "source": [
    "var1 = var2 = var3 = 700 # atribuir com mesmo conteúdo\n",
    "print (id(var1), id(var2), id(var3)) # id(var1) = id(var2) = id(var3)"
   ]
  },
  {
   "cell_type": "markdown",
   "metadata": {},
   "source": [
    "Pelo o que você sabe até agora sobre atribuição de variável e referências de objeto em Python, o que segue a seguir provavelmente não o surpreenderá."
   ]
  },
  {
   "cell_type": "markdown",
   "metadata": {},
   "source": [
    "`Execute:`"
   ]
  },
  {
   "cell_type": "code",
   "execution_count": null,
   "metadata": {},
   "outputs": [],
   "source": [
    "m = 300\n",
    "n = 300\n",
    "print (id(n), id(m)) # observe que nesse caso id(n) ≠ id(m)"
   ]
  },
  {
   "cell_type": "markdown",
   "metadata": {},
   "source": [
    "Entretanto, para fins de otimização, o interpretador do Python cria objetos para os inteiros no intervalo **[-5, 256]** na inicialização e, em seguida, os reutiliza durante a execução do programa.\n",
    "\n",
    "Assim, ao atribuir variáveis separadas a um valor inteiro no intervalo de **[-5, 256]**, elas farão referência ao mesmo objeto. \n",
    "\n",
    "Observe o código abaixo."
   ]
  },
  {
   "cell_type": "markdown",
   "metadata": {},
   "source": [
    "`Execute:`"
   ]
  },
  {
   "cell_type": "code",
   "execution_count": null,
   "metadata": {},
   "outputs": [],
   "source": [
    "m = 30\n",
    "n = 30\n",
    "print (id(m), id(n)) # nesse caso id(n) = id(m)"
   ]
  },
  {
   "cell_type": "markdown",
   "metadata": {},
   "source": [
    "Nesse último caso, **m** e **n** são atribuídos separadamente a objetos inteiros com valor **30**, mas os **id(m)** e **id(n) são iguais**!"
   ]
  }
 ],
 "metadata": {
  "language_info": {
   "name": "python"
  }
 },
 "nbformat": 4,
 "nbformat_minor": 2
}
