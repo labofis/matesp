{
 "cells": [
  {
   "cell_type": "markdown",
   "metadata": {},
   "source": [
    "# 2. Operadores Matemáticos, Funções Built-in, Importação de Bibliotecas"
   ]
  },
  {
   "cell_type": "markdown",
   "metadata": {},
   "source": [
    "## 2.1. *Operadores Matemáticos*"
   ]
  },
  {
   "cell_type": "markdown",
   "metadata": {},
   "source": [
    "Os operadores matemáticos compreendem aquela simbologia que estamos habituados a manusear quando operamos uma calculadora.\n",
    "\n",
    "Operadores são as construções que podem manipular o valor dos operandos. Considere a expressão 4 <span style=\"color:red\">+</span> 5 = 9. Aqui, 4 e 5 são os operandos e o símbolo <span style=\"color:red\">+</span> é denominado de operador.\n",
    "\n",
    "A linguagem Python suporta vários tipos de operadores (https://docs.python.org/3/library/operator.html).\n",
    "\n",
    "A seguir, os operadores mais usuais."
   ]
  },
  {
   "cell_type": "markdown",
   "metadata": {},
   "source": [
    "`Execute:` "
   ]
  },
  {
   "cell_type": "code",
   "execution_count": null,
   "metadata": {},
   "outputs": [],
   "source": [
    "# OPERADORES ARITMÉTICOS\n",
    "a = 3 + 4 # soma\n",
    "b = 3 - 4 # subtração\n",
    "c = 3 * 4 # multiplicação\n",
    "d = 3 / 4 # divisão floats\n",
    "e = 3 // 4 # quociente\n",
    "f = 3 % 4 # resto\n",
    "g = 3 ** 4 # potencia\n",
    "conta = ((a + b)/3) ** (g/d)"
   ]
  },
  {
   "cell_type": "markdown",
   "metadata": {},
   "source": [
    "`Execute:` "
   ]
  },
  {
   "cell_type": "code",
   "execution_count": null,
   "metadata": {},
   "outputs": [],
   "source": [
    "# OPERADORES de INCREMENTO"
   ]
  },
  {
   "cell_type": "code",
   "execution_count": null,
   "metadata": {},
   "outputs": [],
   "source": [
    "a += b # equivale: a = a + b"
   ]
  },
  {
   "cell_type": "code",
   "execution_count": null,
   "metadata": {},
   "outputs": [],
   "source": [
    "a -= b # equivale: a = a - b"
   ]
  },
  {
   "cell_type": "code",
   "execution_count": null,
   "metadata": {},
   "outputs": [],
   "source": [
    "a *= b # equivale: a = a * b"
   ]
  },
  {
   "cell_type": "code",
   "execution_count": null,
   "metadata": {},
   "outputs": [],
   "source": [
    "a /= b # equivale: a = a / b"
   ]
  },
  {
   "cell_type": "code",
   "execution_count": null,
   "metadata": {},
   "outputs": [],
   "source": [
    "a %= b # equivale: a = a % b"
   ]
  },
  {
   "cell_type": "code",
   "execution_count": null,
   "metadata": {},
   "outputs": [],
   "source": [
    "a //= b # equivale: a = a // b"
   ]
  },
  {
   "cell_type": "code",
   "execution_count": null,
   "metadata": {},
   "outputs": [],
   "source": [
    "a **= b # equivale: a = a ** b"
   ]
  },
  {
   "cell_type": "markdown",
   "metadata": {},
   "source": [
    "`Execute:` "
   ]
  },
  {
   "cell_type": "code",
   "execution_count": 1,
   "metadata": {},
   "outputs": [],
   "source": [
    "# OPERADORES de COMPARAÇÃO"
   ]
  },
  {
   "cell_type": "code",
   "execution_count": null,
   "metadata": {},
   "outputs": [],
   "source": [
    "x, y, z, k = 2, 8, 17, 8\n",
    "print (x == y) # igualdade\n",
    "print (x != y) # diferença\n",
    "print (x < z) # menor que\n",
    "print (z > x) # maior que\n",
    "print (y >= k) # maior ou igual\n",
    "print (k <= y) # menor ou igual\n",
    "print ( 4 == 2*2 < 9) # corrente de comparação"
   ]
  },
  {
   "cell_type": "markdown",
   "metadata": {},
   "source": [
    "Mais sobre operadores pode ser encontrado em\n",
    "\n",
    " - https://docs.python.org/pt-br/3/library/operator.html\n",
    " - https://realpython.com/python-operators-expressions/\n"
   ]
  },
  {
   "cell_type": "markdown",
   "metadata": {},
   "source": [
    "## 2.2. Funções Integradas (*Built-In*) "
   ]
  },
  {
   "cell_type": "markdown",
   "metadata": {},
   "source": [
    "Funções integradas (ou ***built-in***), são funções que podem ser executadas no ambiente Python sem a necessidade de importar uma biblioteca.\n",
    "\n",
    "Observe, no exemplo a seguir, que estamos utilizando as funções sem a necessidade de importar bibliotecas."
   ]
  },
  {
   "cell_type": "markdown",
   "metadata": {},
   "source": [
    "`Execute:` "
   ]
  },
  {
   "cell_type": "code",
   "execution_count": null,
   "metadata": {},
   "outputs": [],
   "source": [
    "#valor absoluto\n",
    "print (abs(-4.378)) # 4.378\n",
    "# retorna resto e quociente da divisão\n",
    "print (divmod(17,2)) # (8, 1)\n",
    "# quatro elevado a dois\n",
    "print (pow(4,2)) # 16\n",
    "# arredonda considerando 2 casas decimais\n",
    "print (round(4.9282,2)) # 4.93"
   ]
  },
  {
   "cell_type": "markdown",
   "metadata": {},
   "source": [
    "A tabela a seguir evidencia, em ordem alfabética, as funções integradas do Python (https://docs.python.org/3/library/functions.html)."
   ]
  },
  {
   "cell_type": "markdown",
   "metadata": {},
   "source": [
    "![tabela_build-in](https://raw.githubusercontent.com/labofis/matesp/main/figures/Table_build-in.png)"
   ]
  },
  {
   "cell_type": "markdown",
   "metadata": {},
   "source": [
    "Ao longo do texto, haverá oportunidade de conhecer diversas funções integradas. Consulte a documentação do Python (https://docs.python.org/3/library/functions.html) para obter mais detalhes. Outras fontes de informação: https://realpython.com/python-data-types/ ."
   ]
  },
  {
   "cell_type": "markdown",
   "metadata": {},
   "source": [
    "## 2.3. Importação e Instalação de Bibliotecas"
   ]
  },
  {
   "cell_type": "markdown",
   "metadata": {},
   "source": [
    "O python é organizado em módulos e pacotes. Para normalizar a nomenclatura, o termo bibliotecas abarca tanto os módulos como os pacotes que podemos importar para o ambiente de programação. \n",
    "\n",
    "Um módulo é simplesmente um conjunto de operações Python, geralmente funções, colocadas em um único arquivo com extensão .py. Esse arquivo pode então ser importado para um notebook Jupyter (https://jupyter.org/), shell IPython (https://ipython.org/), Spyder (https://www.spyder-ide.org/) ou para outro ambiente para uso em um projeto. \n",
    "\n",
    "Ao trabalhar em um projeto, muitas vezes pode ser desejável ou às vezes necessário criar vários módulos que desempenham tarefas relacionados e agregá-los em um pacote para que possam ser instalados e usados juntos. De maneira concisa, um módulo é um arquivo python (arquivo.py) e um pacote é uma coleção de módulos."
   ]
  },
  {
   "cell_type": "markdown",
   "metadata": {},
   "source": [
    "![tabela_build-in](https://raw.githubusercontent.com/labofis/matesp/main/figures/python_folder.png)"
   ]
  },
  {
   "cell_type": "markdown",
   "metadata": {},
   "source": [
    "A programação modular refere-se ao processo de dividir uma tarefa de programação grande e pesada em subtarefas ou módulos separados, menores e mais gerenciáveis. Módulos individuais podem então ser montados como blocos de construção para criar um aplicativo maior.\n",
    "\n",
    "Funções, módulos e pacotes são todas construções em Python que promovem a modularização do código de programação. Mais informações estão disponíveis em: \n",
    " - https://packaging.python.org/en/latest/tutorials/packaging-projects/\n",
    " - https://realpython.com/python-modules-packages/\n",
    "\n",
    "Ao instalar o pacote pré-elaborado Anaconda, as bibliotecas citadas abaixo, e muitas outras, são  automaticamente instaladas. Para utilizá-las, basta importa-las para o ambiente de programação.\n",
    "\n",
    " - NumPy: http://www.numpy.org\n",
    " - Math: https://docs.python.org/3/library/math.html\n",
    " - Pandas: https://pandas.pydata.org/\n",
    " - Matplotlib: http://www.matplotlib.org\n",
    " - Scikit-Learn: https://scikit-learn.org/stable/\n",
    " - SciPy: https://www.scipy.org/scipylib/index.html <br>\n",
    "  $\\;\\;\\;\\;\\;\\;\\;\\;$ http://www.scipy.org\n",
    " - Cartopy: https://scitools.org.uk/cartopy/docs/latest/#\n",
    " - Basemap: http://www.matplotlib.org/basemap <br>\n",
    " $\\;\\;\\;\\;\\;\\;\\;\\;\\;\\;\\;\\;\\;$ https://pypi.org/project/basemap/"
   ]
  },
  {
   "cell_type": "markdown",
   "metadata": {},
   "source": [
    "### 2.3.1. Importação de Bibliotecas"
   ]
  },
  {
   "cell_type": "markdown",
   "metadata": {},
   "source": [
    "Como alternativa às funções integradas do Python (funções ***built-in***), tem-se as bibliotecas (módulos e pacotes) desenvolvidas para o Python.\n",
    "\n",
    "Por exemplo, é possível importar o **módulo** <span style=\"color:red\">Math</span> (https://docs.python.org/3/library/math.html) e o **pacote** <span style=\"color:red\">NumPy</span> (http://www.numpy.org), ambos instalados pelo Anaconda, e utilizar algumas funções pertencentes a essas bibliotecas, como apresentado no código abaixo."
   ]
  },
  {
   "cell_type": "markdown",
   "metadata": {},
   "source": [
    "`Execute:` "
   ]
  },
  {
   "cell_type": "code",
   "execution_count": null,
   "metadata": {},
   "outputs": [],
   "source": [
    "import math # importa a biblioteca math\n",
    "import numpy # importa a biblioteca numpy\n",
    "# observe que agora fazemos uso de funções pertencentes às bibliotecas\n",
    "print (math.sin(1.0)) # função seno\n",
    "print (numpy.sin(1.0)) # função seno\n",
    "print (math.exp(-1.5)) # exp(-1.5) = e -1.5\n",
    "print (numpy.exp(-1.5)) # diferentes bibliotecas podem conter as mesmas funções\n",
    "print (numpy.pi) # resulta o número pi ≈ 3,141592653589793\n",
    "print (numpy.mean((6,3,12,15))) # calcula a média do conjunto de números\n",
    "print (numpy.abs(-4)) # valor absoluto, resulta: 4"
   ]
  },
  {
   "cell_type": "markdown",
   "metadata": {},
   "source": [
    "Há várias formas de importar as bibliotecas do Python. Por exemplo, podemos importar a biblioteca *numpy* e atribuir um apelido, **import** <span style=\"color:red\">*numpy*</span> **as** <span style=\"color:red\">*np*</span>, no caso o apelido é <span style=\"color:red\">*np*</span>. Os apelidos servem para sintetizar a sintaxe da linha de comando.\n",
    "\n",
    "Os apelidos podem ter qualquer nome, mas geralmente os usuários mantém um padrão de nomenclatura para facilitar a intercambiabilidade e entendimento das rotinas de programação entre os usuários.\n",
    "\n",
    "O exemplo a seguir evidencia algumas sintaxes de importação de bibliotecas. Observe que o pacote <span style=\"color:red\">*matplotlib*</span> contém o subpacote <span style=\"color:red\">*pyplot*</span> e podemos importa-lo sem a necessidade de importar o pacote principal *matplotlib*."
   ]
  },
  {
   "cell_type": "markdown",
   "metadata": {},
   "source": [
    "`Execute:` "
   ]
  },
  {
   "cell_type": "code",
   "execution_count": null,
   "metadata": {},
   "outputs": [],
   "source": [
    "import numpy as np # importa numpy com apelido np\n",
    "import matplotlib as mpl # importa matplotlib com apelido mpl\n",
    "import datetime # importa o pacote datetime\n",
    "from matplotlib import pyplot as plt # pyplot do matplotlip com apelido plt\n",
    "import matplotlib.pyplot as plt # outra jeito de importar\n",
    "from matplotlib.pyplot import # outra maneira de importar\n",
    "from matplotlib import * # importa todos os pacotes do matplotlib"
   ]
  },
  {
   "cell_type": "markdown",
   "metadata": {},
   "source": [
    "Para verificar a **versão** de um módulo/pacote qualquer, basta importar o pacote no ambiente Spyder (ou outro ambiente qualquer) e fazer uso da notação de ponto **módulo/pacote**<span style=\"color:red\">*._ _ _version___*</span> , como no exemplo abaixo."
   ]
  },
  {
   "cell_type": "markdown",
   "metadata": {},
   "source": [
    "`Execute:` "
   ]
  },
  {
   "cell_type": "code",
   "execution_count": null,
   "metadata": {},
   "outputs": [],
   "source": [
    "import numpy as np\n",
    "import matplotlib as mpl\n",
    "print (np.__version__)\n",
    "print (mpl.__version__)"
   ]
  },
  {
   "cell_type": "markdown",
   "metadata": {},
   "source": [
    "Para verificar **onde** as bibliotecas do Python estão instaladas, podemos importar a biblioteca *site* e utilizar a função *site*.***getsitepackages()***."
   ]
  },
  {
   "cell_type": "markdown",
   "metadata": {},
   "source": [
    "`Execute:` "
   ]
  },
  {
   "cell_type": "code",
   "execution_count": null,
   "metadata": {},
   "outputs": [],
   "source": [
    "import site # importa a biblioteca site do Python\n",
    "print (f\"localização das bibliotecas: {site.getsitepackages()}\")"
   ]
  },
  {
   "cell_type": "markdown",
   "metadata": {},
   "source": [
    "Para uma visão mais detalhada, **alguns** módulos ou pacotes possuem o atributo *.show_versions()*, por meio do qual é possível também visualizar as dependências atreladas à biblioteca."
   ]
  },
  {
   "cell_type": "markdown",
   "metadata": {},
   "source": [
    "`Execute:` "
   ]
  },
  {
   "cell_type": "code",
   "execution_count": null,
   "metadata": {},
   "outputs": [],
   "source": [
    "import pandas as pd # importa a biblioteca pandas\n",
    "pd.show_versions()"
   ]
  },
  {
   "cell_type": "markdown",
   "metadata": {},
   "source": [
    "O Python tem uma comunidade muito ativa que contribui com um conjunto ainda maior de bibliotecas que podem auxiliar as necessidades de desenvolvimento de cada usuário. Essas bibliotecas são publicadas no *Python Package Index* (https://pypi.org/), também conhecido como **PyPI** (*Pie Pea Eye*).\n",
    "\n",
    "\n",
    "O **PyPI** hospeda uma extensa coleção módulos e pacotes, muitas vezes não contemplados pelo pacote pré-elaborado Anaconda, que podem ser instalados utilizando o gerenciador de pacotes **conda**."
   ]
  },
  {
   "cell_type": "markdown",
   "metadata": {},
   "source": [
    "### 2.3.2. Instalação de Bibliotecas (Módulos e Pacotes)"
   ]
  },
  {
   "cell_type": "markdown",
   "metadata": {},
   "source": [
    "Eventualmente, para que possamos importa-las para o ambiente de programação, há necessidade de instalação de bibliotecas específicas que não\n",
    "foram instaladas pelo Anaconda.\n",
    "\n",
    "Há três alternativas para o gerenciamento e instalação de bibliotecas no python.\n",
    "\n",
    "`Primeira alternativa`: é o <span style=\"color:red\">*Anaconda Navigator*</span>. A instalação do pacote **Anaconda** (https://www.anaconda.com/) habilita o Anaconda Navigator\n",
    "(https://docs.anaconda.com/anaconda/navigator/), que é um GUI de desktop para gerenciamento de pacotes do Python.\n",
    "\n",
    "`Segunda alternativa`: o <span style=\"color:red\">conda</span> é um gerenciador multiplataforma que instala e gerencia módulos/pacotes **Python** do repositório **Anaconda** e também da nuvem Anaconda: https://docs.conda.io/projects/conda/en/latest/user-guide/getting-started.html\n",
    "\n",
    "De maneira prática, para instalar ou remover uma biblioteca do Python utilizando o **conda**, observe os passos seguir.\n",
    "<br>    1 - abra o ***Anaconda Prompt*** no painel de controle do **Windows**.\n",
    "<br>    2 - para instalar um pacote, digite: ***conda install nome_do_pacote***\n",
    "<br>    3 - instalar o pacote sem dependências: ***conda install nome_do_pacote - -no-deps***\n",
    "<br>    4 - Para remover um pacote, digite: ***conda uninstall nome_do_pacote***\n",
    "<br>    5 - Para atualizar um pacote, digite: ***conda update nome_do_pacote***\n",
    "\n",
    "O **conda** possui muitos recursos, para uma visão geral dos comandos acesse: https://docs.conda.io/projects/conda/en/latest/commands.html#conda-general-commands\n",
    "\n",
    "`Terceira alternativa`: outra alternativa é utilizar o comando pip no painel de controle do **Windows**. Para saber mais de como proceder utilizando o comando pip, acesse: \n",
    "<br> https://packaging.python.org/en/latest/tutorials/installing-packages/\n",
    "<br> https://pypi.org/project/pip/\n",
    "\n",
    "Diferença entre o pip e o conda: basicamente, o pip instala somente pacotes Python (e para instalar o pip, primeiro é necessário já ter instalado o Python), por sua vez o conda instala pacotes que podem ter sido elaborados em diversas linguagens de programação, e não há necessidade de instalação do Python para ter acesso\n",
    "ao conda (https://www.anaconda.com/blog/understanding-conda-and-pip)."
   ]
  }
 ],
 "metadata": {
  "kernelspec": {
   "display_name": "labofis",
   "language": "python",
   "name": "python3"
  },
  "language_info": {
   "codemirror_mode": {
    "name": "ipython",
    "version": 3
   },
   "file_extension": ".py",
   "mimetype": "text/x-python",
   "name": "python",
   "nbconvert_exporter": "python",
   "pygments_lexer": "ipython3",
   "version": "3.11.9"
  }
 },
 "nbformat": 4,
 "nbformat_minor": 2
}
