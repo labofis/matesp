{
 "cells": [
  {
   "cell_type": "markdown",
   "metadata": {},
   "source": [
    "# Disciplina: Matemática Especial"
   ]
  },
  {
   "cell_type": "markdown",
   "metadata": {},
   "source": [
    "Nessa disciplina vamos abordar a linguagem de programação Python. A\n",
    "meta desse curso é propiciar aos alunos de oceanografia uma visão abrangente\n",
    "sobre conceitos de programação computacional apoiado na linguagem de\n",
    "programação Python.\n",
    "\n",
    "Abaixo segue uma Lista de temas que veremos. Vale mencionar que essa\n",
    "lista é apenas um delineamento inicial. Ao longo do curso teremos mais temas\n",
    "inseridos e pode haver modificação na estrutura dos temas.\n",
    "\n",
    "    Tema 1 – Python, Anaconda e Spyder\n",
    "    Tema 2 – Sintaxe e Tipos de Dados (Variáveis)\n",
    "    Tema 3 – Operadores Matemáticos e Funções\n",
    "    Tema 4 – Condicional, interação e Loops\n",
    "    Tema 5 – Funções\n",
    "    Tema 6 – Plotagem e Visualização (1D)\n",
    "    Tema 7 – Plotagem e Visualização (2D e 3D)"
   ]
  },
  {
   "cell_type": "markdown",
   "metadata": {},
   "source": [
    "# Introdução"
   ]
  },
  {
   "cell_type": "markdown",
   "metadata": {},
   "source": [
    "O Python é uma linguagem de programação amplamente utilizada no\n",
    "meio acadêmico, empresarial e de entretenimento, não somente devido aos\n",
    "recursos de programação que a linguagem oferece, mas também pela facilidade\n",
    "de compreensão, legibilidade e por ser uma linguagem de programação de\n",
    "acesso gratuito. Há também compatibilidade entre o Python e os principais\n",
    "sistemas operacionais (Windows, Mac OS X e Linux).\n",
    "\n",
    "O criador da linguagem Python, Guido van Rossum, deu-lhe o nome do\n",
    "programa humorístico de televisão da BBC ‘Monty Python’s Flying Circus’.\n",
    "Python é fácil de aprender e foi projetado em torno de um conjunto de princípios\n",
    "claramente definidos (o Zen do Python) que incentivam os principais\n",
    "desenvolvedores do Python a criar uma linguagem que seja inequívoca e fácil\n",
    "de usar.\n",
    "\n",
    "\n",
    "\n",
    "![História do Python](https://python.land/wp-content/uploads/2020/12/python-timeline.jpg)\n",
    "\n",
    "\n",
    "O material disponível no presente livro tem como objetivo apresentar de\n",
    "maneira introdutória, concisa e prática a linguagem Python e uma parte do\n",
    "ecossistema que compõe e facilita a programação em Python. Os exemplos de\n",
    "programação fazem uso das principais bibliotecas do Python e visam contextualizar base de dados oceanográficas e meteorológicas. Diversos links\n",
    "são disponibilizados para que o leitor possa obter mais informações sobre os\n",
    "temas abordados.\n",
    "\n",
    "Há diversas alternativas para execução do Python, recomendamos a instalação do pacote pré-elaborado Anaconda e suas funcionalidades, assunto tratado no Item 1 do presente texto.\n",
    "\n",
    "Informações adicionais serão disponibilizadas quando houver necessidade de instalar uma biblioteca do Python não contemplada pelo pacote Anaconda.\n"
   ]
  },
  {
   "cell_type": "markdown",
   "metadata": {},
   "source": [
    "## 1. Python, Anaconda e Spyder"
   ]
  },
  {
   "cell_type": "markdown",
   "metadata": {},
   "source": [
    "O Python (https://www.python.org/) é uma linguagem de livre acesso\n",
    "(open-source) de alto nível que ganhou grande popularidade, em parte devido à\n",
    "sua sintaxe compreensiva e suas bibliotecas poderosas, diversificadas e\n",
    "flexíveis. Para se ter uma visão geral do Python, acesse: https://docs.python.org/pt-br/dev/faq/general.html\n",
    "\n",
    "O Anaconda ( https://www.anaconda.com/ ) é uma plataforma computacional\n",
    "(pacote pré-elaborado) gratuita de fácil instalação que permite gerir distribuições de linguagens de programação, ambientes de trabalho e módulos. O Anaconda facilita o processo de instalação do Python e suas bibliotecas (pacotes).\n",
    "\n",
    "Ao instalar o Python a partir do pacote pré-elaborado Anaconda, além de\n",
    "diversas bibliotecas (módulos e pacotes) do Python, também é instalado o\n",
    "gerenciador Conda (https://conda.io/en/latest/). O Conda é útil para atualizar as\n",
    "bibliotecas do Python, baixar novas bibliotecas ou mesmo gerenciar diferentes\n",
    "versões do Python em um mesmo computador (https://conda.io/projects/conda/en/latest/user-guide/tasks/manage-python.html).\n",
    "\n",
    "O Spyder (https://www.spyder-ide.org/) é uma interface gráfica (ou Ambiente de Desenvolvimento Integrado – IDE: Interactive Development Environment) que permite a utilização do Python num ambiente interativo, facilitando a edição de programas (scripts), testes, correção de erros de programação (debugging) e visualização gráfica. Nesse ambiente, há várias ferramentas que permitem agilizar o processo de programa e executar o código Python que está sendo elaborado.\n",
    "\n",
    "Resumindo: baixando-se o Python a partir do pacote pré-elaborado Anaconda teremos instalados em nossos computadores o: Python, Conda e o Spyder e uma extensa lista de bibliotecas (pacotes) utilizadas pelo Python (https://www.anaconda.com/open-source).\n",
    "\n",
    "Para mais informações sobre o Anaconda e o Conda:\n",
    " - https://www.anaconda.com/products/distribution\n",
    " - https://docs.conda.io/en/latest/\n",
    " - https://realpython.com/python-windows-machine-learning-setup/"
   ]
  },
  {
   "cell_type": "markdown",
   "metadata": {},
   "source": [
    "### 1.1. Porque aprender Python"
   ]
  },
  {
   "cell_type": "markdown",
   "metadata": {},
   "source": [
    "Python é fácil de Ler, Escrever e Aprender! Ele possui uma extensa lista\n",
    "de bibliotecas e ferramentas que facilitam significativamente o desenvolvimento\n",
    "de programas, manipulação de dados, elaborações gráficas e outras\n",
    "funcionalidades.\n",
    "\n",
    "Entusiastas que lidam com quantidades significativas de informações,\n",
    "como os das ciências atmosféricas e oceânicas, têm se beneficiados\n",
    "significativamente com os recursos e a flexibilidade da linguagem Python.\n",
    "\n",
    "Você já ouviu falar do Google Engine ? Assista o vídeo indicado no link\n",
    "(https://earthengine.google.com/) e observe que a linguagem de programação\n",
    "Python está contemplada no projeto Google Engine.\n",
    "\n",
    "Algumas empresas que fazem uso do Python\n",
    "\n",
    "\n",
    "![Empresas que usam Python](https://www.botreetechnologies.com/blog/wp-content/uploads/2020/12/major-companies-that-use-python.png)\n",
    "\n"
   ]
  },
  {
   "cell_type": "markdown",
   "metadata": {},
   "source": [
    "___________________________________________________________________"
   ]
  },
  {
   "cell_type": "markdown",
   "metadata": {},
   "source": [
    "| Assista o vídeo de 8 minutos sobre aplicação Python: | \n",
    "|-------------------------------------------------- |"
   ]
  },
  {
   "cell_type": "code",
   "execution_count": 5,
   "metadata": {},
   "outputs": [
    {
     "data": {
      "text/html": [
       "\n",
       "<iframe width=\"560\" height=\"315\" src=\"https://www.youtube.com/embed/Q1iPPkAk_Ho?si=YsUclGvmjePujKHg\" title=\"YouTube video player\" frameborder=\"0\" allow=\"accelerometer; autoplay; clipboard-write; encrypted-media; gyroscope; picture-in-picture; web-share\" referrerpolicy=\"strict-origin-when-cross-origin\" allowfullscreen></iframe>\n"
      ],
      "text/plain": [
       "<IPython.core.display.HTML object>"
      ]
     },
     "metadata": {},
     "output_type": "display_data"
    }
   ],
   "source": [
    "%%HTML\n",
    "\n",
    "<iframe width=\"560\" height=\"315\" src=\"https://www.youtube.com/embed/Q1iPPkAk_Ho?si=YsUclGvmjePujKHg\" title=\"YouTube video player\" frameborder=\"0\" allow=\"accelerometer; autoplay; clipboard-write; encrypted-media; gyroscope; picture-in-picture; web-share\" referrerpolicy=\"strict-origin-when-cross-origin\" allowfullscreen></iframe>"
   ]
  },
  {
   "cell_type": "markdown",
   "metadata": {},
   "source": [
    "___________________________________________________________________"
   ]
  },
  {
   "cell_type": "markdown",
   "metadata": {},
   "source": [
    "### 1.2. Material Didático"
   ]
  },
  {
   "cell_type": "markdown",
   "metadata": {},
   "source": [
    "Na internet é possível ter acesso à uma ampla gama de informações sobre\n",
    "o Python.\n",
    "\n",
    " - https://docs.python.org/pt-br/3/\n",
    " - https://docs.python.org/pt-br/3/tutorial/\n",
    " - https://docs.python.org/pt-br/3/library/\n",
    " - https://python.org.br/\n",
    "\n",
    " O Python Data Science Handbook é uma excelente fonte de informação:\n",
    "Este livro não se concentra somente em ensinar o funcionamento interno da linguagem Python, mas também a criação de funções complexas, definição de classes, herança ou outros aspectos da programação orientada a objetos.\n",
    " - https://jakevdp.github.io/PythonDataScienceHandbook/.\n",
    "\n",
    "Informações a respeito do pacote pré-elaborado Anaconda.\n",
    " - https://www.anaconda.com/library\n",
    "\n",
    "\n",
    "Um portal que pode ser útil para tirar dúvidas ou procurar por respostas de dúvidas é o Stack Overflow. É um site de perguntas e respostas para entusiastas na área de programação de computadores. Certamente alguém já passou pela dúvida que você poderá vir a ter. Abaixo o link em português e o link em inglês.\n",
    " - https://pt.stackoverflow.com/\n",
    " - https://stackoverflow.com/\n",
    "\n",
    " "
   ]
  },
  {
   "cell_type": "markdown",
   "metadata": {},
   "source": [
    "### 1.3. Instalação do Python e Verificação da Versão"
   ]
  },
  {
   "cell_type": "markdown",
   "metadata": {},
   "source": [
    "Para instalar o Python a partir do pacote pré-elaborado Anaconda, acesse\n",
    "ANACONDA: \n",
    " - https://www.anaconda.com/download#downloads"
   ]
  },
  {
   "cell_type": "markdown",
   "metadata": {},
   "source": [
    "Selecione o Python 3.11 (ou a última versão disponível) para Windows (ou MacOS, ou Linux). Observe se seu computador é de 32-Bit ou 64-Bit ( https://www.tecmundo.com.br/windows-7/6476-como-saber-se-o-seu-windows-e-32-ou-64-bits-video-.htm ).\n",
    "\n",
    "O pacote será baixado no seu computador (pode levar um tempinho) e você poderá instalá-lo, no caso do sistema Windows, basta clicar no pacote baixado."
   ]
  },
  {
   "cell_type": "markdown",
   "metadata": {},
   "source": [
    "___________________________________________________________________"
   ]
  },
  {
   "cell_type": "markdown",
   "metadata": {},
   "source": [
    "| SUGESTÃO: |\n",
    "|:--------------------------:|\n"
   ]
  },
  {
   "cell_type": "markdown",
   "metadata": {},
   "source": [
    "Assista o vídeo de 7 minutos sobre instalação Anaconda e suas principais\n",
    "ferramentas:"
   ]
  },
  {
   "cell_type": "code",
   "execution_count": 8,
   "metadata": {},
   "outputs": [
    {
     "data": {
      "text/html": [
       "\n",
       "<iframe width=\"560\" height=\"315\" src=\"https://www.youtube.com/embed/tp4_BGU02VQ?si=9OeEBOIXMsji-siV\" title=\"YouTube video player\" frameborder=\"0\" allow=\"accelerometer; autoplay; clipboard-write; encrypted-media; gyroscope; picture-in-picture; web-share\" referrerpolicy=\"strict-origin-when-cross-origin\" allowfullscreen></iframe>\n"
      ],
      "text/plain": [
       "<IPython.core.display.HTML object>"
      ]
     },
     "metadata": {},
     "output_type": "display_data"
    }
   ],
   "source": [
    "%%HTML\n",
    "\n",
    "<iframe width=\"560\" height=\"315\" src=\"https://www.youtube.com/embed/tp4_BGU02VQ?si=9OeEBOIXMsji-siV\" title=\"YouTube video player\" frameborder=\"0\" allow=\"accelerometer; autoplay; clipboard-write; encrypted-media; gyroscope; picture-in-picture; web-share\" referrerpolicy=\"strict-origin-when-cross-origin\" allowfullscreen></iframe>"
   ]
  },
  {
   "cell_type": "markdown",
   "metadata": {},
   "source": [
    "Assista o vídeo de 13 minutos sobre o Spyder e suas funcionalidades (o vídeo\n",
    "tem legenda em Português):"
   ]
  },
  {
   "cell_type": "code",
   "execution_count": 7,
   "metadata": {},
   "outputs": [
    {
     "data": {
      "text/html": [
       "<iframe width=\"560\" height=\"315\" src=\"https://www.youtube.com/embed/zYNRqVimU3Q?si=ppLt0SmpqN65L0R8\" title=\"YouTube video player\" frameborder=\"0\" allow=\"accelerometer; autoplay; clipboard-write; encrypted-media; gyroscope; picture-in-picture; web-share\" referrerpolicy=\"strict-origin-when-cross-origin\" allowfullscreen></iframe>\n"
      ],
      "text/plain": [
       "<IPython.core.display.HTML object>"
      ]
     },
     "metadata": {},
     "output_type": "display_data"
    }
   ],
   "source": [
    "%%HTML\n",
    "<iframe width=\"560\" height=\"315\" src=\"https://www.youtube.com/embed/zYNRqVimU3Q?si=ppLt0SmpqN65L0R8\" title=\"YouTube video player\" frameborder=\"0\" allow=\"accelerometer; autoplay; clipboard-write; encrypted-media; gyroscope; picture-in-picture; web-share\" referrerpolicy=\"strict-origin-when-cross-origin\" allowfullscreen></iframe>"
   ]
  },
  {
   "cell_type": "markdown",
   "metadata": {},
   "source": [
    "Uma visão abrangente do Spyder e suas funcionalidades (com vídeos e\n",
    "tutoriais):\n",
    "\n",
    " - https://www.spyder-ide.org/ "
   ]
  },
  {
   "cell_type": "markdown",
   "metadata": {},
   "source": [
    "___________________________________________________________________"
   ]
  },
  {
   "cell_type": "markdown",
   "metadata": {},
   "source": [
    "Após instalação, você poderá verificar a versão/informações do Python que está utilizando, basta digitar as linhas abaixo no painel de console do **Spyder**:"
   ]
  },
  {
   "cell_type": "markdown",
   "metadata": {},
   "source": [
    "`Execute:` "
   ]
  },
  {
   "cell_type": "code",
   "execution_count": null,
   "metadata": {},
   "outputs": [],
   "source": [
    "import sys # importa a biblioteca sys do Python\n",
    "print(f\"Python version: {sys.version}\")\n",
    "print(f\"Version information: {sys.version_info}\")"
   ]
  },
  {
   "cell_type": "markdown",
   "metadata": {},
   "source": [
    "### 1.4. Python é uma linguagem orientada a objeto"
   ]
  },
  {
   "cell_type": "markdown",
   "metadata": {},
   "source": [
    "Nesse momento não temos a pretensão de deixar claro o que é uma linguagem orientada a objetos, queremos apenas destacar que o Python é uma linguagem orientada a objeto.\n",
    "\n",
    "A programação orientada a objetos tem suas origens na década de 1960, mas somente em meados da década de 1980 ela se tornou no principal **paradigma de programação** utilizado na criação de *software*.\n",
    "\n",
    "Na programação orientada a objetos o foco é na criação de **classes** e **objetos** que conterão tanto os dados e atributos quanto as funcionalidades. Conceitos relevantes da programação orientada a objeto serão explicados no contexto em que se fizerem necessários."
   ]
  },
  {
   "cell_type": "markdown",
   "metadata": {},
   "source": [
    "### 1.5. Python é uma linguagem de tipagem dinâmica"
   ]
  },
  {
   "cell_type": "markdown",
   "metadata": {},
   "source": [
    "Tipagem dinâmica significa que o próprio interpretador do Python infere o tipo dos dados que uma variável recebe, sem necessitar que o usuário da linguagem informe o tipo da variável.\n",
    "\n",
    "Podemos verificar o tipo de uma variável utilizando a função `type()`.\n",
    "\n",
    "Abra o Spyder no seu computador e execute as linhas de comando abaixo."
   ]
  },
  {
   "cell_type": "markdown",
   "metadata": {},
   "source": [
    "`Execute:` "
   ]
  },
  {
   "cell_type": "code",
   "execution_count": null,
   "metadata": {},
   "outputs": [],
   "source": [
    "a = 2 # cria uma variável com conteúdo 2\n",
    "print (type(a)) # resulta: <class 'int'>\n",
    "b = 'isso e uma variável string' # cria uma varia com uma string\n",
    "print (type(b)) # resulta: <class 'str'>"
   ]
  },
  {
   "cell_type": "markdown",
   "metadata": {},
   "source": [
    "Observe no exemplo acima que a variável `a` conterá o número inteiro **2** e ela será do tipo integer, a variável `b` conterá a frase *'isso e uma variável string'* e será to tipo **string**. Note que não precisamos informar isso para o Python, ele automaticamente reconhece os tipos das variáveis.\n",
    "\n",
    "Posteriormente veremos melhor quais os tipos de variáveis que o Python aceita, nesse momento o importante é entender que o Python é uma linguagem que reconhece automaticamente os tipos das variáveis pelo conteúdo que as variáveis contém, daí vem o conceito de **tipagem forte e dinâmica**."
   ]
  }
 ],
 "metadata": {
  "kernelspec": {
   "display_name": "labofis",
   "language": "python",
   "name": "python3"
  },
  "language_info": {
   "codemirror_mode": {
    "name": "ipython",
    "version": 3
   },
   "file_extension": ".py",
   "mimetype": "text/x-python",
   "name": "python",
   "nbconvert_exporter": "python",
   "pygments_lexer": "ipython3",
   "version": "3.11.9"
  }
 },
 "nbformat": 4,
 "nbformat_minor": 2
}
